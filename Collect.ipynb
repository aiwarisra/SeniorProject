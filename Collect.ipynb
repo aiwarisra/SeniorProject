{
 "cells": [
  {
   "cell_type": "code",
   "execution_count": 2,
   "metadata": {},
   "outputs": [],
   "source": [
    "#!pip install depthai"
   ]
  },
  {
   "cell_type": "code",
   "execution_count": 38,
   "metadata": {},
   "outputs": [],
   "source": [
    "from HandTrackerRenderer import HandTrackerRenderer\n",
    "from HandTrackerEdge import HandTracker\n",
    "from FPS import FPS, now\n",
    "import numpy as np\n",
    "import os\n",
    "import cv2"
   ]
  },
  {
   "cell_type": "code",
   "execution_count": 3,
   "metadata": {},
   "outputs": [
    {
     "name": "stdout",
     "output_type": "stream",
     "text": [
      "Palm detection blob     : C:\\Secret\\College\\Senior\\SIgnExactEnglish\\models\\palm_detection_sh4.blob\n",
      "Landmark blob           : C:\\Secret\\College\\Senior\\SIgnExactEnglish\\models\\hand_landmark_lite_sh4.blob\n",
      "PD post processing blob : C:\\Secret\\College\\Senior\\SIgnExactEnglish\\custom_models\\PDPostProcessing_top2_sh1.blob\n",
      "Sensor resolution: (1920, 1080)\n",
      "Internal camera FPS set to: 36\n",
      "Internal camera image size: 1152 x 648 - pad_h: 252\n",
      "Creating pipeline...\n",
      "Creating Color Camera...\n",
      "Creating Palm Detection pre processing image manip...\n",
      "Creating Palm Detection Neural Network...\n",
      "Creating Palm Detection post processing Neural Network...\n",
      "Creating Hand Landmark pre processing image manip...\n",
      "Creating Hand Landmark Neural Network (2 threads)...\n",
      "Pipeline created.\n",
      "Pipeline started - USB speed: SUPER\n"
     ]
    }
   ],
   "source": [
    "\n",
    "tracker = HandTracker(solo = False)\n",
    "\n",
    "renderer = HandTrackerRenderer(\n",
    "        tracker=tracker,\n",
    "        output=None)"
   ]
  },
  {
   "cell_type": "code",
   "execution_count": 5,
   "metadata": {},
   "outputs": [
    {
     "data": {
      "text/plain": [
       "'c:\\\\Secret\\\\College\\\\Senior\\\\SIgnExactEnglish'"
      ]
     },
     "execution_count": 5,
     "metadata": {},
     "output_type": "execute_result"
    }
   ],
   "source": [
    "pwd"
   ]
  },
  {
   "cell_type": "code",
   "execution_count": 148,
   "metadata": {},
   "outputs": [],
   "source": [
    "# Path for exported data, numpy arrays\n",
    "DATA_PATH = os.path.join('Collected_Data') \n",
    "# Actions that we try to detect\n",
    "actions = np.array(['I','am','learn','ing','sign'])\n",
    "\n",
    "# Thirty videos worth of data\n",
    "no_sequences = 30\n",
    "\n",
    "# Videos are going to be 30 frames in length\n",
    "sequence_length = 30\n",
    "\n",
    "# Folder start\n",
    "start_folder = 30"
   ]
  },
  {
   "cell_type": "code",
   "execution_count": 149,
   "metadata": {},
   "outputs": [],
   "source": [
    "for action in actions: \n",
    "    for sequence in range(no_sequences):\n",
    "        try: \n",
    "            os.makedirs(os.path.join(DATA_PATH, action))\n",
    "        except:\n",
    "            pass"
   ]
  },
  {
   "cell_type": "code",
   "execution_count": 120,
   "metadata": {},
   "outputs": [],
   "source": [
    "def extractData(hands) :\n",
    "    rh_data = np.zeros((21, 3))\n",
    "    lh_data = np.zeros((21, 3))\n",
    "    for hand in hands : \n",
    "        Label = hand.label\n",
    "        if Label == 'left' : \n",
    "            lh_data = hand.norm_landmarks \n",
    "        elif Label == 'right' : \n",
    "            rh_data = hand.norm_landmarks\n",
    "    return lh_data,rh_data\n",
    "            "
   ]
  },
  {
   "cell_type": "code",
   "execution_count": 151,
   "metadata": {},
   "outputs": [],
   "source": [
    "fps = FPS()\n",
    "for action in actions : \n",
    "    for i in range(no_sequences) :\n",
    "        frame_num_array = []\n",
    "        lh = []\n",
    "        rh = [] \n",
    "        while True:\n",
    "            # Run hand tracker on next frame\n",
    "            # 'bag' contains some information related to the frame \n",
    "            # and not related to a particular hand like body keypoints in Body Pre Focusing mode\n",
    "            # Currently 'bag' contains meaningful information only when Body Pre Focusing is used\n",
    "            frame, hands, bag = tracker.next_frame()\n",
    "            cv2.waitKey(100)\n",
    "            frame_num = tracker.fps.nb_frames()\n",
    "            frame_num_array.append(frame_num)\n",
    "            frame_count = frame_num - frame_num_array[0]\n",
    "            if frame is None: break\n",
    "            if frame_count == 0 :  \n",
    "                cv2.putText(frame, 'Start Collecting', (120,300), cv2.FONT_HERSHEY_SIMPLEX, 1, (0,255, 0), 4, cv2.LINE_AA)\n",
    "                cv2.waitKey(1000)\n",
    "            elif frame_count > 0  : \n",
    "                cv2.putText(frame,'Collecting frames for {},Video Number {}'.format(action,i),(15,30)\n",
    "                                 , cv2.FONT_HERSHEY_SIMPLEX, 1, (0,255, 0), 4, cv2.LINE_AA)\n",
    "                lh_data,rh_data = extractData(hands)\n",
    "                lh.append(lh_data)\n",
    "                rh.append(rh_data)\n",
    "            if frame_count >= sequence_length : \n",
    "                lrh = np.concatenate([lh,rh])\n",
    "                npy_path = os.path.join(DATA_PATH, action,f\"{action}_{i}\")\n",
    "                np.save(npy_path, lrh)\n",
    "                break\n",
    "            # Draw hands\n",
    "            frame = renderer.draw(frame, hands, bag)\n",
    "            key = renderer.waitKey(delay=1)\n",
    "            if key == 27 or key == ord('q'):\n",
    "                break\n",
    "        renderer.exit()\n",
    "    "
   ]
  },
  {
   "cell_type": "code",
   "execution_count": 140,
   "metadata": {},
   "outputs": [],
   "source": [
    "np.save(npy_path,lrh)"
   ]
  },
  {
   "cell_type": "code",
   "execution_count": 104,
   "metadata": {},
   "outputs": [
    {
     "data": {
      "text/plain": [
       "(21, 3)"
      ]
     },
     "execution_count": 104,
     "metadata": {},
     "output_type": "execute_result"
    }
   ],
   "source": [
    "lh[0].shape"
   ]
  },
  {
   "cell_type": "code",
   "execution_count": null,
   "metadata": {},
   "outputs": [],
   "source": []
  },
  {
   "cell_type": "code",
   "execution_count": 35,
   "metadata": {},
   "outputs": [],
   "source": [
    "tracker.exit()"
   ]
  }
 ],
 "metadata": {
  "interpreter": {
   "hash": "9b9221c9fa0c804214309051805ad5497afac26eb3bf5b138d56a6216387e02b"
  },
  "kernelspec": {
   "display_name": "Python 3.8.12 64-bit ('Senior': conda)",
   "language": "python",
   "name": "python3"
  },
  "language_info": {
   "codemirror_mode": {
    "name": "ipython",
    "version": 3
   },
   "file_extension": ".py",
   "mimetype": "text/x-python",
   "name": "python",
   "nbconvert_exporter": "python",
   "pygments_lexer": "ipython3",
   "version": "3.8.12"
  },
  "orig_nbformat": 4
 },
 "nbformat": 4,
 "nbformat_minor": 2
}
